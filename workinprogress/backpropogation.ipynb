{
 "cells": [
  {
   "cell_type": "markdown",
   "metadata": {},
   "source": [
    "# Manual Backpropogation 101\n",
    "\n",
    "## Pre-requisites:\n",
    "- A basic understanding of the neural networks\n",
    "- Chain Rule\n",
    "  \n",
    "### \n",
    "Why backpropogation matters?\n",
    "\n",
    "> 💀 DANGER: Jargon Alert 💀\n",
    "> Forward Pass: Neural networks are made up of layers of neurons that transforms the input as the input makes a trip through the neuron. The input is transformed by a linear combination of the input and the weights, and then passed through an activation function. The output of the activation function is then passed to the next layer of neurons. This process is repeated until the output layer is reached. This process is called the forward pass.\n",
    "\n",
    "\n",
    "Let us see these actions through PyTorch,"
   ]
  },
  {
   "cell_type": "code",
   "execution_count": 12,
   "metadata": {},
   "outputs": [
    {
     "data": {
      "text/plain": [
       "[[3, 3], [3, 3]]"
      ]
     },
     "execution_count": 12,
     "metadata": {},
     "output_type": "execute_result"
    }
   ],
   "source": [
    "from pandas import DataFrame\n",
    "d = [[1,2],[1,3]]\n",
    "df = DataFrame(d)\n",
    "df.replace([1,2],3).values.tolist()\n",
    "# df\n",
    "# df.replace([1,2],3)\n"
   ]
  },
  {
   "cell_type": "code",
   "execution_count": null,
   "metadata": {},
   "outputs": [],
   "source": []
  }
 ],
 "metadata": {
  "kernelspec": {
   "display_name": "Python 3.11.0 64-bit",
   "language": "python",
   "name": "python3"
  },
  "language_info": {
   "codemirror_mode": {
    "name": "ipython",
    "version": 3
   },
   "file_extension": ".py",
   "mimetype": "text/x-python",
   "name": "python",
   "nbconvert_exporter": "python",
   "pygments_lexer": "ipython3",
   "version": "3.11.0"
  },
  "orig_nbformat": 4,
  "vscode": {
   "interpreter": {
    "hash": "41cec28fd681075328d5c3ce57c3e36d2e28950cd4b5df3e126fcfc4cca87be8"
   }
  }
 },
 "nbformat": 4,
 "nbformat_minor": 2
}
