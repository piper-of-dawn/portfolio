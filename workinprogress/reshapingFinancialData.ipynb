{
 "cells": [
  {
   "cell_type": "code",
   "execution_count": null,
   "metadata": {},
   "outputs": [],
   "source": [
    "# Understanding tick data\n",
    "# Tick data represents the most granular level of data available. It records every single transaction that occurs in a market. This is the most accurate data available, but it is also the most expensive. Tick data is typically only available for a few days or weeks at a time. It is also very difficult to store and analyze. For these reasons, tick data is typically only used by professional traders and hedge funds."
   ]
  }
 ],
 "metadata": {
  "language_info": {
   "name": "python"
  },
  "orig_nbformat": 4
 },
 "nbformat": 4,
 "nbformat_minor": 2
}
